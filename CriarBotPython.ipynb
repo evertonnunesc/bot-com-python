{
 "cells": [
  {
   "cell_type": "markdown",
   "id": "c56b780c",
   "metadata": {},
   "source": [
    "# Criar Bot com Python\n",
    "\n",
    "### Bot no Computador - pyautogui"
   ]
  },
  {
   "cell_type": "code",
   "execution_count": 11,
   "id": "29c87a41",
   "metadata": {},
   "outputs": [],
   "source": [
    "import pyautogui\n",
    "\n",
    "pyautogui.PAUSE=8\n",
    "\n",
    "#Abrir a ferramenta / o sistema / o programa\n",
    "pyautogui.press(\"win\")\n",
    "pyautogui.write(\"login.xlsx\")\n",
    "pyautogui.press(\"backspace\")\n",
    "pyautogui.press(\"enter\")\n",
    "\n",
    "#preencher login\n",
    "pyautogui.click(x=503, y=314)\n",
    "pyautogui.write(\"EvertonNunes\")\n",
    "\n",
    "#preencher senha\n",
    "pyautogui.click(x=485, y=360)\n",
    "pyautogui.write(\"testeDeSenha\")\n",
    "\n",
    "#clicar em fazer login\n",
    "pyautogui.click(x=353, y=468)"
   ]
  },
  {
   "cell_type": "code",
   "execution_count": 4,
   "id": "40f52edf",
   "metadata": {},
   "outputs": [
    {
     "data": {
      "text/plain": [
       "Point(x=361, y=171)"
      ]
     },
     "execution_count": 4,
     "metadata": {},
     "output_type": "execute_result"
    }
   ],
   "source": [
    "import time\n",
    "\n",
    "time.sleep(3)\n",
    "pyautogui.position()"
   ]
  },
  {
   "cell_type": "markdown",
   "id": "d54af9d3",
   "metadata": {},
   "source": [
    "### Bot na Internet - Selenium"
   ]
  },
  {
   "cell_type": "code",
   "execution_count": 23,
   "id": "836a35cd",
   "metadata": {},
   "outputs": [
    {
     "name": "stderr",
     "output_type": "stream",
     "text": [
      "C:\\Users\\evert\\AppData\\Local\\Temp\\ipykernel_10952\\1046547257.py:9: DeprecationWarning: find_element_by_* commands are deprecated. Please use find_element() instead\n",
      "  navegador.find_element_by_xpath('//*[@id=\"i0116\"]').send_keys(\"evertonnunesc@outlook.com.br\")\n",
      "C:\\Users\\evert\\AppData\\Local\\Temp\\ipykernel_10952\\1046547257.py:10: DeprecationWarning: find_element_by_* commands are deprecated. Please use find_element() instead\n",
      "  navegador.find_element_by_xpath('//*[@id=\"idSIButton9\"]').click()\n",
      "C:\\Users\\evert\\AppData\\Local\\Temp\\ipykernel_10952\\1046547257.py:13: DeprecationWarning: find_element_by_* commands are deprecated. Please use find_element() instead\n",
      "  navegador.find_element_by_xpath('//*[@id=\"i0118\"]').send_keys(\"ilovesantiagodoChile2018\")\n",
      "C:\\Users\\evert\\AppData\\Local\\Temp\\ipykernel_10952\\1046547257.py:14: DeprecationWarning: find_element_by_* commands are deprecated. Please use find_element() instead\n",
      "  navegador.find_element_by_xpath('//*[@id=\"idSIButton9\"]').click()\n",
      "C:\\Users\\evert\\AppData\\Local\\Temp\\ipykernel_10952\\1046547257.py:17: DeprecationWarning: find_element_by_* commands are deprecated. Please use find_element() instead\n",
      "  navegador.find_element_by_xpath('//*[@id=\"idBtn_Back\"]').click()\n"
     ]
    }
   ],
   "source": [
    "#chrome -> chromedriver\n",
    "from selenium import webdriver\n",
    "import time\n",
    "\n",
    "navegador = webdriver.Chrome()\n",
    "navegador.get(\"https://login.live.com/\")\n",
    "\n",
    "time.sleep(1)\n",
    "navegador.find_element_by_xpath('//*[@id=\"i0116\"]').send_keys(\"seu e-email\")\n",
    "navegador.find_element_by_xpath('//*[@id=\"idSIButton9\"]').click()\n",
    "\n",
    "time.sleep(2)\n",
    "navegador.find_element_by_xpath('//*[@id=\"i0118\"]').send_keys(\"sua senha\")\n",
    "navegador.find_element_by_xpath('//*[@id=\"idSIButton9\"]').click()\n",
    "\n",
    "time.sleep(3)\n",
    "navegador.find_element_by_xpath('//*[@id=\"idBtn_Back\"]').click()\n"
   ]
  },
  {
   "cell_type": "code",
   "execution_count": 22,
   "id": "d62d6ca0",
   "metadata": {},
   "outputs": [
    {
     "name": "stderr",
     "output_type": "stream",
     "text": [
      "C:\\Users\\evert\\AppData\\Local\\Temp\\ipykernel_10952\\571074086.py:8: DeprecationWarning: find_element_by_* commands are deprecated. Please use find_element() instead\n",
      "  navegador.find_element_by_xpath('/html/body/div[1]/div[3]/form/div[1]/div[1]/div[1]/div/div[2]/input').send_keys(\"Login Outlook\")\n",
      "C:\\Users\\evert\\AppData\\Local\\Temp\\ipykernel_10952\\571074086.py:9: DeprecationWarning: find_element_by_* commands are deprecated. Please use find_element() instead\n",
      "  navegador.find_element_by_xpath('/html/body/div[1]/div[3]/form/div[1]/div[1]/div[3]/center/input[1]').click()\n"
     ]
    },
    {
     "ename": "ElementClickInterceptedException",
     "evalue": "Message: element click intercepted: Element <input class=\"gNO89b\" value=\"Pesquisa Google\" aria-label=\"Pesquisa Google\" name=\"btnK\" type=\"submit\" data-ved=\"0ahUKEwjS3qa5tcj1AhUhlJUCHTa5CiMQ4dUDCAs\"> is not clickable at point (434, 271). Other element would receive the click: <span>...</span>\n  (Session info: chrome=97.0.4692.71)\nStacktrace:\nBacktrace:\n\tOrdinal0 [0x009FFDC3+2555331]\n\tOrdinal0 [0x009977F1+2127857]\n\tOrdinal0 [0x00892E08+1060360]\n\tOrdinal0 [0x008C48CF+1263823]\n\tOrdinal0 [0x008C2B10+1256208]\n\tOrdinal0 [0x008C076B+1247083]\n\tOrdinal0 [0x008BF559+1242457]\n\tOrdinal0 [0x008B4FB3+1200051]\n\tOrdinal0 [0x008D7B0C+1342220]\n\tOrdinal0 [0x008B4984+1198468]\n\tOrdinal0 [0x008D7C14+1342484]\n\tOrdinal0 [0x008E75FA+1406458]\n\tOrdinal0 [0x008D7976+1341814]\n\tOrdinal0 [0x008B36B6+1193654]\n\tOrdinal0 [0x008B4546+1197382]\n\tGetHandleVerifier [0x00B99622+1619522]\n\tGetHandleVerifier [0x00C4882C+2336844]\n\tGetHandleVerifier [0x00A923E1+541697]\n\tGetHandleVerifier [0x00A91443+537699]\n\tOrdinal0 [0x0099D18E+2150798]\n\tOrdinal0 [0x009A1518+2168088]\n\tOrdinal0 [0x009A1660+2168416]\n\tOrdinal0 [0x009AB330+2208560]\n\tBaseThreadInitThunk [0x76126739+25]\n\tRtlGetFullPathName_UEx [0x77718E7F+1215]\n\tRtlGetFullPathName_UEx [0x77718E4D+1165]\n",
     "output_type": "error",
     "traceback": [
      "\u001b[1;31m---------------------------------------------------------------------------\u001b[0m",
      "\u001b[1;31mElementClickInterceptedException\u001b[0m          Traceback (most recent call last)",
      "Input \u001b[1;32mIn [22]\u001b[0m, in \u001b[0;36m<module>\u001b[1;34m\u001b[0m\n\u001b[0;32m      7\u001b[0m time\u001b[38;5;241m.\u001b[39msleep(\u001b[38;5;241m1\u001b[39m)\n\u001b[0;32m      8\u001b[0m navegador\u001b[38;5;241m.\u001b[39mfind_element_by_xpath(\u001b[38;5;124m'\u001b[39m\u001b[38;5;124m/html/body/div[1]/div[3]/form/div[1]/div[1]/div[1]/div/div[2]/input\u001b[39m\u001b[38;5;124m'\u001b[39m)\u001b[38;5;241m.\u001b[39msend_keys(\u001b[38;5;124m\"\u001b[39m\u001b[38;5;124mLogin Outlook\u001b[39m\u001b[38;5;124m\"\u001b[39m)\n\u001b[1;32m----> 9\u001b[0m \u001b[43mnavegador\u001b[49m\u001b[38;5;241;43m.\u001b[39;49m\u001b[43mfind_element_by_xpath\u001b[49m\u001b[43m(\u001b[49m\u001b[38;5;124;43m'\u001b[39;49m\u001b[38;5;124;43m/html/body/div[1]/div[3]/form/div[1]/div[1]/div[3]/center/input[1]\u001b[39;49m\u001b[38;5;124;43m'\u001b[39;49m\u001b[43m)\u001b[49m\u001b[38;5;241;43m.\u001b[39;49m\u001b[43mclick\u001b[49m\u001b[43m(\u001b[49m\u001b[43m)\u001b[49m\n",
      "File \u001b[1;32m~\\AppData\\Local\\Programs\\Python\\Python310\\lib\\site-packages\\selenium\\webdriver\\remote\\webelement.py:81\u001b[0m, in \u001b[0;36mWebElement.click\u001b[1;34m(self)\u001b[0m\n\u001b[0;32m     79\u001b[0m \u001b[38;5;28;01mdef\u001b[39;00m \u001b[38;5;21mclick\u001b[39m(\u001b[38;5;28mself\u001b[39m) \u001b[38;5;241m-\u001b[39m\u001b[38;5;241m>\u001b[39m \u001b[38;5;28;01mNone\u001b[39;00m:\n\u001b[0;32m     80\u001b[0m     \u001b[38;5;124;03m\"\"\"Clicks the element.\"\"\"\u001b[39;00m\n\u001b[1;32m---> 81\u001b[0m     \u001b[38;5;28;43mself\u001b[39;49m\u001b[38;5;241;43m.\u001b[39;49m\u001b[43m_execute\u001b[49m\u001b[43m(\u001b[49m\u001b[43mCommand\u001b[49m\u001b[38;5;241;43m.\u001b[39;49m\u001b[43mCLICK_ELEMENT\u001b[49m\u001b[43m)\u001b[49m\n",
      "File \u001b[1;32m~\\AppData\\Local\\Programs\\Python\\Python310\\lib\\site-packages\\selenium\\webdriver\\remote\\webelement.py:710\u001b[0m, in \u001b[0;36mWebElement._execute\u001b[1;34m(self, command, params)\u001b[0m\n\u001b[0;32m    708\u001b[0m     params \u001b[38;5;241m=\u001b[39m {}\n\u001b[0;32m    709\u001b[0m params[\u001b[38;5;124m'\u001b[39m\u001b[38;5;124mid\u001b[39m\u001b[38;5;124m'\u001b[39m] \u001b[38;5;241m=\u001b[39m \u001b[38;5;28mself\u001b[39m\u001b[38;5;241m.\u001b[39m_id\n\u001b[1;32m--> 710\u001b[0m \u001b[38;5;28;01mreturn\u001b[39;00m \u001b[38;5;28;43mself\u001b[39;49m\u001b[38;5;241;43m.\u001b[39;49m\u001b[43m_parent\u001b[49m\u001b[38;5;241;43m.\u001b[39;49m\u001b[43mexecute\u001b[49m\u001b[43m(\u001b[49m\u001b[43mcommand\u001b[49m\u001b[43m,\u001b[49m\u001b[43m \u001b[49m\u001b[43mparams\u001b[49m\u001b[43m)\u001b[49m\n",
      "File \u001b[1;32m~\\AppData\\Local\\Programs\\Python\\Python310\\lib\\site-packages\\selenium\\webdriver\\remote\\webdriver.py:424\u001b[0m, in \u001b[0;36mWebDriver.execute\u001b[1;34m(self, driver_command, params)\u001b[0m\n\u001b[0;32m    422\u001b[0m response \u001b[38;5;241m=\u001b[39m \u001b[38;5;28mself\u001b[39m\u001b[38;5;241m.\u001b[39mcommand_executor\u001b[38;5;241m.\u001b[39mexecute(driver_command, params)\n\u001b[0;32m    423\u001b[0m \u001b[38;5;28;01mif\u001b[39;00m response:\n\u001b[1;32m--> 424\u001b[0m     \u001b[38;5;28;43mself\u001b[39;49m\u001b[38;5;241;43m.\u001b[39;49m\u001b[43merror_handler\u001b[49m\u001b[38;5;241;43m.\u001b[39;49m\u001b[43mcheck_response\u001b[49m\u001b[43m(\u001b[49m\u001b[43mresponse\u001b[49m\u001b[43m)\u001b[49m\n\u001b[0;32m    425\u001b[0m     response[\u001b[38;5;124m'\u001b[39m\u001b[38;5;124mvalue\u001b[39m\u001b[38;5;124m'\u001b[39m] \u001b[38;5;241m=\u001b[39m \u001b[38;5;28mself\u001b[39m\u001b[38;5;241m.\u001b[39m_unwrap_value(\n\u001b[0;32m    426\u001b[0m         response\u001b[38;5;241m.\u001b[39mget(\u001b[38;5;124m'\u001b[39m\u001b[38;5;124mvalue\u001b[39m\u001b[38;5;124m'\u001b[39m, \u001b[38;5;28;01mNone\u001b[39;00m))\n\u001b[0;32m    427\u001b[0m     \u001b[38;5;28;01mreturn\u001b[39;00m response\n",
      "File \u001b[1;32m~\\AppData\\Local\\Programs\\Python\\Python310\\lib\\site-packages\\selenium\\webdriver\\remote\\errorhandler.py:247\u001b[0m, in \u001b[0;36mErrorHandler.check_response\u001b[1;34m(self, response)\u001b[0m\n\u001b[0;32m    245\u001b[0m         alert_text \u001b[38;5;241m=\u001b[39m value[\u001b[38;5;124m'\u001b[39m\u001b[38;5;124malert\u001b[39m\u001b[38;5;124m'\u001b[39m]\u001b[38;5;241m.\u001b[39mget(\u001b[38;5;124m'\u001b[39m\u001b[38;5;124mtext\u001b[39m\u001b[38;5;124m'\u001b[39m)\n\u001b[0;32m    246\u001b[0m     \u001b[38;5;28;01mraise\u001b[39;00m exception_class(message, screen, stacktrace, alert_text)  \u001b[38;5;66;03m# type: ignore[call-arg]  # mypy is not smart enough here\u001b[39;00m\n\u001b[1;32m--> 247\u001b[0m \u001b[38;5;28;01mraise\u001b[39;00m exception_class(message, screen, stacktrace)\n",
      "\u001b[1;31mElementClickInterceptedException\u001b[0m: Message: element click intercepted: Element <input class=\"gNO89b\" value=\"Pesquisa Google\" aria-label=\"Pesquisa Google\" name=\"btnK\" type=\"submit\" data-ved=\"0ahUKEwjS3qa5tcj1AhUhlJUCHTa5CiMQ4dUDCAs\"> is not clickable at point (434, 271). Other element would receive the click: <span>...</span>\n  (Session info: chrome=97.0.4692.71)\nStacktrace:\nBacktrace:\n\tOrdinal0 [0x009FFDC3+2555331]\n\tOrdinal0 [0x009977F1+2127857]\n\tOrdinal0 [0x00892E08+1060360]\n\tOrdinal0 [0x008C48CF+1263823]\n\tOrdinal0 [0x008C2B10+1256208]\n\tOrdinal0 [0x008C076B+1247083]\n\tOrdinal0 [0x008BF559+1242457]\n\tOrdinal0 [0x008B4FB3+1200051]\n\tOrdinal0 [0x008D7B0C+1342220]\n\tOrdinal0 [0x008B4984+1198468]\n\tOrdinal0 [0x008D7C14+1342484]\n\tOrdinal0 [0x008E75FA+1406458]\n\tOrdinal0 [0x008D7976+1341814]\n\tOrdinal0 [0x008B36B6+1193654]\n\tOrdinal0 [0x008B4546+1197382]\n\tGetHandleVerifier [0x00B99622+1619522]\n\tGetHandleVerifier [0x00C4882C+2336844]\n\tGetHandleVerifier [0x00A923E1+541697]\n\tGetHandleVerifier [0x00A91443+537699]\n\tOrdinal0 [0x0099D18E+2150798]\n\tOrdinal0 [0x009A1518+2168088]\n\tOrdinal0 [0x009A1660+2168416]\n\tOrdinal0 [0x009AB330+2208560]\n\tBaseThreadInitThunk [0x76126739+25]\n\tRtlGetFullPathName_UEx [0x77718E7F+1215]\n\tRtlGetFullPathName_UEx [0x77718E4D+1165]\n"
     ]
    }
   ],
   "source": []
  }
 ],
 "metadata": {
  "kernelspec": {
   "display_name": "Python 3",
   "language": "python",
   "name": "python3"
  },
  "language_info": {
   "codemirror_mode": {
    "name": "ipython",
    "version": 3
   },
   "file_extension": ".py",
   "mimetype": "text/x-python",
   "name": "python",
   "nbconvert_exporter": "python",
   "pygments_lexer": "ipython3",
   "version": "3.10.2"
  }
 },
 "nbformat": 4,
 "nbformat_minor": 5
}
